{
  "nbformat": 4,
  "nbformat_minor": 0,
  "metadata": {
    "colab": {
      "name": "Copy of Untitled0.ipynb",
      "provenance": [],
      "collapsed_sections": []
    },
    "kernelspec": {
      "name": "python3",
      "display_name": "Python 3"
    }
  },
  "cells": [
    {
      "cell_type": "markdown",
      "metadata": {
        "id": "Mub6pbcKy4rD"
      },
      "source": [
        "\n",
        "**KEY Server**\n",
        "\n"
      ]
    },
    {
      "cell_type": "code",
      "metadata": {
        "id": "tJuMY470yxdP",
        "colab": {
          "base_uri": "https://localhost:8080/"
        },
        "outputId": "4751cc45-30b9-4eae-accf-ba53d2b70ac3"
      },
      "source": [
        "!pip install pyDES"
      ],
      "execution_count": null,
      "outputs": [
        {
          "output_type": "stream",
          "text": [
            "Collecting pyDES\n",
            "  Downloading https://files.pythonhosted.org/packages/92/5e/0075a35ea5d307a182b0963900298b209ea2f363ccdd5a27e8cb04c58410/pyDes-2.0.1.tar.gz\n",
            "Building wheels for collected packages: pyDES\n",
            "  Building wheel for pyDES (setup.py) ... \u001b[?25l\u001b[?25hdone\n",
            "  Created wheel for pyDES: filename=pyDes-2.0.1-py2.py3-none-any.whl size=9548 sha256=ffd2998e6c210856ce8a53ba1741b0d9039252b1ad8da2a1fb44526179453cdd\n",
            "  Stored in directory: /root/.cache/pip/wheels/8d/ff/d6/b38861c6a8fb5807fcd62e520d4d018caca96c8c3c645e47ec\n",
            "Successfully built pyDES\n",
            "Installing collected packages: pyDES\n",
            "Successfully installed pyDES-2.0.1\n"
          ],
          "name": "stdout"
        }
      ]
    },
    {
      "cell_type": "code",
      "metadata": {
        "colab": {
          "base_uri": "https://localhost:8080/"
        },
        "id": "PGvAo1pA2C-3",
        "outputId": "50ea261b-6427-435e-e600-77043d1332c6"
      },
      "source": [
        "import os\n",
        "\n",
        "print(os.urandom(8));\n",
        "Ks=os.urandom(16)\n"
      ],
      "execution_count": null,
      "outputs": [
        {
          "output_type": "stream",
          "text": [
            "b\"\\xb8\\xc7n\\x8a'\\xd7K'\"\n"
          ],
          "name": "stdout"
        }
      ]
    },
    {
      "cell_type": "code",
      "metadata": {
        "id": "6pOijOxZ25qF"
      },
      "source": [
        "#key=b'\\x13c\\x8a\\x1cg\\x98\\x1c\\x89'\n",
        "#print(type(key))"
      ],
      "execution_count": null,
      "outputs": []
    },
    {
      "cell_type": "code",
      "metadata": {
        "id": "pOSyj-mHyxPz"
      },
      "source": [
        "from pyDes import *\n",
        "import binascii\n",
        "import hashlib\n",
        "#key=Ks\n",
        "def key_server(data):\n",
        "  #data = \"DES Algorithm Implementation\"\n",
        "\n",
        "\n",
        "  k = triple_des(Ks, CBC, pad=None, padmode=PAD_PKCS5)\n",
        "  d = k.encrypt(data)\n",
        "  Te=hashlib.md5(binascii.b2a_hex(d).decode(encoding='utf-8').encode())\n",
        "  return  (Te.hexdigest())\n",
        "\n",
        "  #print (\"Encrypted: %r\" % d)\n",
        "  #print (\"Decrypted: %r\" % k.decrypt(d))"
      ],
      "execution_count": null,
      "outputs": []
    },
    {
      "cell_type": "code",
      "metadata": {
        "id": "SAPz5o2U3xLx"
      },
      "source": [
        ""
      ],
      "execution_count": null,
      "outputs": []
    },
    {
      "cell_type": "code",
      "metadata": {
        "id": "nR0JKX6j3xDB"
      },
      "source": [
        ""
      ],
      "execution_count": null,
      "outputs": []
    },
    {
      "cell_type": "markdown",
      "metadata": {
        "id": "jqSH3lpj4hOb"
      },
      "source": [
        "**Enter message**"
      ]
    },
    {
      "cell_type": "code",
      "metadata": {
        "colab": {
          "base_uri": "https://localhost:8080/"
        },
        "id": "Z4A4SaRZ3xAy",
        "outputId": "ce7a3dcb-7266-4e4f-da2b-6e58200cf476"
      },
      "source": [
        "message=input(\"Enter message: \")"
      ],
      "execution_count": null,
      "outputs": [
        {
          "output_type": "stream",
          "text": [
            "Enter message: hai\n"
          ],
          "name": "stdout"
        }
      ]
    },
    {
      "cell_type": "markdown",
      "metadata": {
        "id": "bH3pOmNV5Ez9"
      },
      "source": [
        "**Finding H(m) (SHA-256 equivalent for the message)**"
      ]
    },
    {
      "cell_type": "code",
      "metadata": {
        "colab": {
          "base_uri": "https://localhost:8080/"
        },
        "id": "gQO45MeS5Pyy",
        "outputId": "1202d130-b424-4e5b-cdf6-a8931d7e7c42"
      },
      "source": [
        "result = hashlib.sha256(message.encode()) \n",
        "HM=result.hexdigest()\n",
        "print(result.hexdigest()) "
      ],
      "execution_count": null,
      "outputs": [
        {
          "output_type": "stream",
          "text": [
            "739b9d664d77db3ee3cab40737c6386fb7b6ef9e00b31a434fd7680e69482ba0\n"
          ],
          "name": "stdout"
        }
      ]
    },
    {
      "cell_type": "markdown",
      "metadata": {
        "id": "m19NU5n04S-9"
      },
      "source": [
        "**Sending H(m) to the key server for generating common key K**"
      ]
    },
    {
      "cell_type": "code",
      "metadata": {
        "colab": {
          "base_uri": "https://localhost:8080/"
        },
        "id": "uvCZ4X0j4N8x",
        "outputId": "d7f29cde-f7a3-4dda-f47c-2ed117c97d3a"
      },
      "source": [
        "K=key_server(HM)\n",
        "print(K)"
      ],
      "execution_count": null,
      "outputs": [
        {
          "output_type": "stream",
          "text": [
            "343e45f01a2f26e2ccb797e86d0395a0\n"
          ],
          "name": "stdout"
        }
      ]
    },
    {
      "cell_type": "markdown",
      "metadata": {
        "id": "1P2-yZDEA4H-"
      },
      "source": [
        "**AES Encryption function**"
      ]
    },
    {
      "cell_type": "code",
      "metadata": {
        "id": "-q9JxxZ-BK1t",
        "colab": {
          "base_uri": "https://localhost:8080/"
        },
        "outputId": "d2ae0404-11d6-4cc0-e5d7-c33f62aa044a"
      },
      "source": [
        "!pip install pycrypto"
      ],
      "execution_count": null,
      "outputs": [
        {
          "output_type": "stream",
          "text": [
            "Collecting pycrypto\n",
            "\u001b[?25l  Downloading https://files.pythonhosted.org/packages/60/db/645aa9af249f059cc3a368b118de33889219e0362141e75d4eaf6f80f163/pycrypto-2.6.1.tar.gz (446kB)\n",
            "\r\u001b[K     |▊                               | 10kB 11.4MB/s eta 0:00:01\r\u001b[K     |█▌                              | 20kB 11.3MB/s eta 0:00:01\r\u001b[K     |██▏                             | 30kB 8.8MB/s eta 0:00:01\r\u001b[K     |███                             | 40kB 7.3MB/s eta 0:00:01\r\u001b[K     |███▊                            | 51kB 4.5MB/s eta 0:00:01\r\u001b[K     |████▍                           | 61kB 4.5MB/s eta 0:00:01\r\u001b[K     |█████▏                          | 71kB 5.0MB/s eta 0:00:01\r\u001b[K     |█████▉                          | 81kB 5.4MB/s eta 0:00:01\r\u001b[K     |██████▋                         | 92kB 5.6MB/s eta 0:00:01\r\u001b[K     |███████▍                        | 102kB 5.5MB/s eta 0:00:01\r\u001b[K     |████████                        | 112kB 5.5MB/s eta 0:00:01\r\u001b[K     |████████▉                       | 122kB 5.5MB/s eta 0:00:01\r\u001b[K     |█████████▌                      | 133kB 5.5MB/s eta 0:00:01\r\u001b[K     |██████████▎                     | 143kB 5.5MB/s eta 0:00:01\r\u001b[K     |███████████                     | 153kB 5.5MB/s eta 0:00:01\r\u001b[K     |███████████▊                    | 163kB 5.5MB/s eta 0:00:01\r\u001b[K     |████████████▌                   | 174kB 5.5MB/s eta 0:00:01\r\u001b[K     |█████████████▏                  | 184kB 5.5MB/s eta 0:00:01\r\u001b[K     |██████████████                  | 194kB 5.5MB/s eta 0:00:01\r\u001b[K     |██████████████▊                 | 204kB 5.5MB/s eta 0:00:01\r\u001b[K     |███████████████▍                | 215kB 5.5MB/s eta 0:00:01\r\u001b[K     |████████████████▏               | 225kB 5.5MB/s eta 0:00:01\r\u001b[K     |█████████████████               | 235kB 5.5MB/s eta 0:00:01\r\u001b[K     |█████████████████▋              | 245kB 5.5MB/s eta 0:00:01\r\u001b[K     |██████████████████▍             | 256kB 5.5MB/s eta 0:00:01\r\u001b[K     |███████████████████             | 266kB 5.5MB/s eta 0:00:01\r\u001b[K     |███████████████████▉            | 276kB 5.5MB/s eta 0:00:01\r\u001b[K     |████████████████████▋           | 286kB 5.5MB/s eta 0:00:01\r\u001b[K     |█████████████████████▎          | 296kB 5.5MB/s eta 0:00:01\r\u001b[K     |██████████████████████          | 307kB 5.5MB/s eta 0:00:01\r\u001b[K     |██████████████████████▊         | 317kB 5.5MB/s eta 0:00:01\r\u001b[K     |███████████████████████▌        | 327kB 5.5MB/s eta 0:00:01\r\u001b[K     |████████████████████████▎       | 337kB 5.5MB/s eta 0:00:01\r\u001b[K     |█████████████████████████       | 348kB 5.5MB/s eta 0:00:01\r\u001b[K     |█████████████████████████▊      | 358kB 5.5MB/s eta 0:00:01\r\u001b[K     |██████████████████████████▍     | 368kB 5.5MB/s eta 0:00:01\r\u001b[K     |███████████████████████████▏    | 378kB 5.5MB/s eta 0:00:01\r\u001b[K     |████████████████████████████    | 389kB 5.5MB/s eta 0:00:01\r\u001b[K     |████████████████████████████▋   | 399kB 5.5MB/s eta 0:00:01\r\u001b[K     |█████████████████████████████▍  | 409kB 5.5MB/s eta 0:00:01\r\u001b[K     |██████████████████████████████  | 419kB 5.5MB/s eta 0:00:01\r\u001b[K     |██████████████████████████████▉ | 430kB 5.5MB/s eta 0:00:01\r\u001b[K     |███████████████████████████████▋| 440kB 5.5MB/s eta 0:00:01\r\u001b[K     |████████████████████████████████| 450kB 5.5MB/s \n",
            "\u001b[?25hBuilding wheels for collected packages: pycrypto\n",
            "  Building wheel for pycrypto (setup.py) ... \u001b[?25l\u001b[?25hdone\n",
            "  Created wheel for pycrypto: filename=pycrypto-2.6.1-cp37-cp37m-linux_x86_64.whl size=499931 sha256=589686d627c4a8aabda6130f2f1643b0b43d830638f1c9534876ceb17f57f8cb\n",
            "  Stored in directory: /root/.cache/pip/wheels/27/02/5e/77a69d0c16bb63c6ed32f5386f33a2809c94bd5414a2f6c196\n",
            "Successfully built pycrypto\n",
            "Installing collected packages: pycrypto\n",
            "Successfully installed pycrypto-2.6.1\n"
          ],
          "name": "stdout"
        }
      ]
    },
    {
      "cell_type": "code",
      "metadata": {
        "id": "0Mo-y0Iq4N6d"
      },
      "source": [
        "from Crypto.Cipher import AES\n",
        "from Crypto.Util import Counter\n",
        "from Crypto import Random\n",
        "import binascii\n",
        "\n",
        "# AES supports multiple key sizes: 16 (AES128), 24 (AES192), or 32 (AES256).\n",
        "key_bytes = 32\n",
        "\n",
        "# Takes as input a 32-byte key and an arbitrary-length plaintext and returns a\n",
        "# pair (iv, ciphtertext). \"iv\" stands for initialization vector.\n",
        "iv = Random.new().read(AES.block_size)\n",
        "def encrypt(key, plaintext):\n",
        "    assert len(key) == key_bytes\n",
        "\n",
        "    # Choose a random, 16-byte IV.\n",
        "    \n",
        "\n",
        "    # Convert the IV to a Python integer.\n",
        "    iv_int = int(binascii.hexlify(iv), 16) \n",
        "\n",
        "    # Create a new Counter object with IV = iv_int.\n",
        "    ctr = Counter.new(AES.block_size * 8, initial_value=iv_int)\n",
        "\n",
        "    # Create AES-CTR cipher.\n",
        "    aes = AES.new(key, AES.MODE_CTR, counter=ctr)\n",
        "\n",
        "    # Encrypt and return IV and ciphertext.\n",
        "    ciphertext = aes.encrypt(plaintext)\n",
        "    return (iv, ciphertext)\n",
        "\n",
        "# Takes as input a 32-byte key, a 16-byte IV, and a ciphertext, and outputs the\n",
        "# corresponding plaintext.\n",
        "def decrypt(key, iv, ciphertext):\n",
        "    assert len(key) == key_bytes\n",
        "\n",
        "    # Initialize counter for decryption. iv should be the same as the output of\n",
        "    # encrypt().\n",
        "    iv_int = int(binascii.hexlify(iv), 16) \n",
        "    ctr = Counter.new(AES.block_size * 8, initial_value=iv_int)\n",
        "\n",
        "    # Create AES-CTR cipher.\n",
        "    aes = AES.new(key, AES.MODE_CTR, counter=ctr)\n",
        "\n",
        "    # Decrypt and return the plaintext.\n",
        "    plaintext = aes.decrypt(ciphertext)\n",
        "    return plaintext"
      ],
      "execution_count": null,
      "outputs": []
    },
    {
      "cell_type": "code",
      "metadata": {
        "colab": {
          "base_uri": "https://localhost:8080/"
        },
        "id": "qlxE6BNv7XGF",
        "outputId": "18cd1953-3d36-4457-9d6f-0ca245d1cfff"
      },
      "source": [
        "AES.block_size"
      ],
      "execution_count": null,
      "outputs": [
        {
          "output_type": "execute_result",
          "data": {
            "text/plain": [
              "16"
            ]
          },
          "metadata": {
            "tags": []
          },
          "execution_count": 27
        }
      ]
    },
    {
      "cell_type": "markdown",
      "metadata": {
        "id": "KN5xtlkeBO8I"
      },
      "source": [
        "**Encrypting Message with key K**"
      ]
    },
    {
      "cell_type": "code",
      "metadata": {
        "id": "uOyD-ueUkQVU"
      },
      "source": [
        "ivm,C1=encrypt(K,message)"
      ],
      "execution_count": null,
      "outputs": []
    },
    {
      "cell_type": "markdown",
      "metadata": {
        "id": "Hg4f9MWmHkBs"
      },
      "source": [
        "**generating private key Kx**"
      ]
    },
    {
      "cell_type": "code",
      "metadata": {
        "colab": {
          "base_uri": "https://localhost:8080/"
        },
        "id": "WIS-hE89Eksc",
        "outputId": "796b3b06-d868-4648-a021-a143b4a50d7b"
      },
      "source": [
        "Kx= Random.new().read(32)\n",
        "print(Kx)"
      ],
      "execution_count": null,
      "outputs": [
        {
          "output_type": "stream",
          "text": [
            "b'(\\xf3P\\xb7\\xf3\\x0e\\x07;h\\xe3c\\x82\\x94n\\xb0\\x8a\\xa4\\xe8\\xec\\x93!\\xa0.\\xfe6\\xa5\"\\xd0!\\x88\\x1cR'\n"
          ],
          "name": "stdout"
        }
      ]
    },
    {
      "cell_type": "markdown",
      "metadata": {
        "id": "vQ8ghU99ItWf"
      },
      "source": [
        "**Encrypting Common key K with private key Kx using AES encryption**\n"
      ]
    },
    {
      "cell_type": "code",
      "metadata": {
        "id": "-J1gY0uDIeMk"
      },
      "source": [
        "ivk,C2=encrypt(Kx,K)"
      ],
      "execution_count": null,
      "outputs": []
    },
    {
      "cell_type": "markdown",
      "metadata": {
        "id": "N6hUYQmXJY0x"
      },
      "source": [
        "**Common cipher Text C1 and initial value**"
      ]
    },
    {
      "cell_type": "code",
      "metadata": {
        "colab": {
          "base_uri": "https://localhost:8080/"
        },
        "id": "hFo8Uc6smJcJ",
        "outputId": "25706fc9-807a-4b19-a46b-5176fa50c049"
      },
      "source": [
        "print(\"Common cipher Text C1: \", C1)"
      ],
      "execution_count": null,
      "outputs": [
        {
          "output_type": "stream",
          "text": [
            "Common cipher Text C1:  b'!G\\xfa'\n"
          ],
          "name": "stdout"
        }
      ]
    },
    {
      "cell_type": "code",
      "metadata": {
        "colab": {
          "base_uri": "https://localhost:8080/"
        },
        "id": "hLjgvGY_OdsA",
        "outputId": "f57b5c56-5c40-40ea-dc4c-2738cc7616b5"
      },
      "source": [
        "print(\"Initial value for message decryption: \", ivm)"
      ],
      "execution_count": null,
      "outputs": [
        {
          "output_type": "stream",
          "text": [
            "Initial value for message decryption:  b'U\\x9a\\r:b\\t\\xde\\xac\\xe4\\xf6s\\x10\\xf9\\xa3\\x01S'\n"
          ],
          "name": "stdout"
        }
      ]
    },
    {
      "cell_type": "markdown",
      "metadata": {
        "id": "Do4q9OO1KMHH"
      },
      "source": [
        "**Encrypted Common key K (C2) and initial value for decryption**"
      ]
    },
    {
      "cell_type": "code",
      "metadata": {
        "colab": {
          "base_uri": "https://localhost:8080/"
        },
        "id": "HRfDxLdqmINR",
        "outputId": "57a47123-3209-4c5e-dab7-8a0cbf493ccb"
      },
      "source": [
        "print(\"Encrypted Common key K (C2): \", C2)"
      ],
      "execution_count": null,
      "outputs": [
        {
          "output_type": "stream",
          "text": [
            "Encrypted Common key K (C2):  b'\\xe7\\xb6\\x94\\x89\\xea\\xd0\\xbci\\x05Z/|M\\xb5\\xa8\\xbd\\x1bD\\x13I\\x85h\\xb4\\x95\\xf5\\xa6E\\xde0\\xc3V0'\n"
          ],
          "name": "stdout"
        }
      ]
    },
    {
      "cell_type": "code",
      "metadata": {
        "colab": {
          "base_uri": "https://localhost:8080/"
        },
        "id": "roYg9naHKZ_t",
        "outputId": "df2512a2-9bcf-47a5-94bc-7f827bd6e1f2"
      },
      "source": [
        "print(\"Initial value for K's decryption: \", ivk)"
      ],
      "execution_count": null,
      "outputs": [
        {
          "output_type": "stream",
          "text": [
            "Initial value for K's decryption:  b'U\\x9a\\r:b\\t\\xde\\xac\\xe4\\xf6s\\x10\\xf9\\xa3\\x01S'\n"
          ],
          "name": "stdout"
        }
      ]
    },
    {
      "cell_type": "code",
      "metadata": {
        "id": "Ow25dtBsKcoI"
      },
      "source": [
        ""
      ],
      "execution_count": null,
      "outputs": []
    },
    {
      "cell_type": "markdown",
      "metadata": {
        "id": "-f8tyzbMKdJR"
      },
      "source": [
        "**DECRYPTION**"
      ]
    },
    {
      "cell_type": "code",
      "metadata": {
        "id": "fQMu3wLTKiFh"
      },
      "source": [
        "#private key (Kx)\n",
        "#Kx=b\"V@\\xba`\\x044\\x12\\xd2\\xe6\\xc3hD\\xb3\\xf7\\xa5s\\x956\\xb59\\xb2R\\x12\\xf0\\xf9'\\xbc\\x805\\x9b\\xf3\\x8d\"\n",
        "#ivm=\n",
        "#C1="
      ],
      "execution_count": null,
      "outputs": []
    },
    {
      "cell_type": "markdown",
      "metadata": {
        "id": "M0tvedPfKwWQ"
      },
      "source": [
        "**Decrypting Common key K**"
      ]
    },
    {
      "cell_type": "code",
      "metadata": {
        "id": "wW73VG5aKvHh"
      },
      "source": [
        "Common_key=decrypt(Kx, ivk, C2)"
      ],
      "execution_count": null,
      "outputs": []
    },
    {
      "cell_type": "code",
      "metadata": {
        "colab": {
          "base_uri": "https://localhost:8080/"
        },
        "id": "rQkygheZSh1j",
        "outputId": "ae86fadf-8c4f-4eb0-db9b-4a0303293056"
      },
      "source": [
        "Common_key"
      ],
      "execution_count": null,
      "outputs": [
        {
          "output_type": "execute_result",
          "data": {
            "text/plain": [
              "b'6add51858040cdc43459a2fa9b0f7bbe'"
            ]
          },
          "metadata": {
            "tags": []
          },
          "execution_count": 19
        }
      ]
    },
    {
      "cell_type": "code",
      "metadata": {
        "id": "qwrvxOSzTmK8"
      },
      "source": [
        "Decrypted_msg=decrypt(Common_key,ivm,C1)"
      ],
      "execution_count": null,
      "outputs": []
    },
    {
      "cell_type": "code",
      "metadata": {
        "colab": {
          "base_uri": "https://localhost:8080/"
        },
        "id": "40949EPzUw_D",
        "outputId": "97bf62a7-e5f8-434e-a2ef-619a6aaddf70"
      },
      "source": [
        "print(\"Decrypted message: \",Decrypted_msg)"
      ],
      "execution_count": null,
      "outputs": [
        {
          "output_type": "stream",
          "text": [
            "Decrypted message:  b'hai'\n"
          ],
          "name": "stdout"
        }
      ]
    },
    {
      "cell_type": "code",
      "metadata": {
        "id": "HcHePm1dU43C"
      },
      "source": [
        ""
      ],
      "execution_count": null,
      "outputs": []
    },
    {
      "cell_type": "code",
      "metadata": {
        "id": "x3XqXIYBb_To"
      },
      "source": [
        ""
      ],
      "execution_count": null,
      "outputs": []
    },
    {
      "cell_type": "markdown",
      "metadata": {
        "id": "H7kYl6e5G2ZR"
      },
      "source": [
        "**Encryption**"
      ]
    },
    {
      "cell_type": "code",
      "metadata": {
        "id": "oy2dw2MvHFPZ"
      },
      "source": [
        "C1_list=[]\n",
        "C2_list=[]"
      ],
      "execution_count": null,
      "outputs": []
    },
    {
      "cell_type": "code",
      "metadata": {
        "id": "3zflLPj5bmnj",
        "colab": {
          "base_uri": "https://localhost:8080/"
        },
        "outputId": "7354954e-47e9-4745-bf9e-b20907ca34c9"
      },
      "source": [
        "message_t=input(\"Enter message: \")\n",
        "result = hashlib.sha256(message.encode()) \n",
        "HM=result.hexdigest()\n",
        "#print(result.hexdigest()) \n",
        "K=key_server(HM)\n",
        "#print(K)\n"
      ],
      "execution_count": null,
      "outputs": [
        {
          "output_type": "stream",
          "text": [
            "Enter message: hello hai\n"
          ],
          "name": "stdout"
        }
      ]
    },
    {
      "cell_type": "markdown",
      "metadata": {
        "id": "zNaNvTX5F-8k"
      },
      "source": [
        "**Generate private key**"
      ]
    },
    {
      "cell_type": "code",
      "metadata": {
        "id": "WWqnXvY9cRIE",
        "colab": {
          "base_uri": "https://localhost:8080/"
        },
        "outputId": "65a18f95-e2c6-473d-b0b0-add55ce7aa8f"
      },
      "source": [
        "\n",
        "Kx= Random.new().read(32)\n",
        "print(\"This is your private key: \",Kx)\n"
      ],
      "execution_count": null,
      "outputs": [
        {
          "output_type": "stream",
          "text": [
            "This is your private key:  b'\\xd6\\x1d\\xfe`\\xa3\\x15\\xc2zU\\xc4J+\\xa4\\x86\\xb2\\x7f4\\x85Bn\\xaa\\x8a \\xd0\\x8d\\x96\\x15\\xf0v\\x06\\xb7\\x9c'\n"
          ],
          "name": "stdout"
        }
      ]
    },
    {
      "cell_type": "code",
      "metadata": {
        "id": "rTGyUMRdcRFz"
      },
      "source": [
        "ivm,C1=encrypt(K,message_t)\n",
        "ivk,C2=encrypt(Kx,K)\n",
        "C1_list.append(C1)\n",
        "C2_list.append(C2)"
      ],
      "execution_count": null,
      "outputs": []
    },
    {
      "cell_type": "code",
      "metadata": {
        "id": "nqBdIMRVcRDj",
        "colab": {
          "base_uri": "https://localhost:8080/"
        },
        "outputId": "84e09816-124c-4210-9447-84a431f4337b"
      },
      "source": [
        "print(\"Encrypted message: \", C1.hex())\n",
        "print(\"Encrypted key: \", C2.hex())\n",
        "print(\"Private key: \",Kx.hex())\n",
        "print(\"Initial value for message: \", ivm.hex())\n",
        "print(\"Initial value for common key: \",ivk.hex())"
      ],
      "execution_count": null,
      "outputs": [
        {
          "output_type": "stream",
          "text": [
            "Encrypted message:  a6ebddc9783248ca24\n",
            "Encrypted key:  b66d89f5d5e0eb09173c9a366b5530a8512fbbe2a4106fa880432bfef06212eb\n",
            "Private key:  d61dfe60a315c27a55c44a2ba486b27f3485426eaa8a20d08d9615f07606b79c\n",
            "Initial value for message:  de92e2b2cfdd6351bfb65ea992a85d68\n",
            "Initial value for common key:  de92e2b2cfdd6351bfb65ea992a85d68\n"
          ],
          "name": "stdout"
        }
      ]
    },
    {
      "cell_type": "markdown",
      "metadata": {
        "id": "L9sVCXb2GqdC"
      },
      "source": [
        "**Decryption**"
      ]
    },
    {
      "cell_type": "code",
      "metadata": {
        "colab": {
          "base_uri": "https://localhost:8080/"
        },
        "id": "nhiGtIzsbmlS",
        "outputId": "e3611e89-597a-41ea-f50a-12cb3ddfcad1"
      },
      "source": [
        "C1_t=bytes.fromhex(input(\"Enter message encrypted text: \"))\n",
        "C2_t=bytes.fromhex(input(\"Enter key encrypted text: \"))\n",
        "p_key=bytes.fromhex(input(\"Enter private key: \"))\n",
        "ivm_t=bytes.fromhex(input(\"Enter initial value for message\"))\n",
        "ivk_t=bytes.fromhex(input(\"Enter initial value for common key: \"))\n"
      ],
      "execution_count": null,
      "outputs": [
        {
          "output_type": "stream",
          "text": [
            "Enter message encrypted text: b18107\n",
            "Enter key encrypted text: 85cbc0d5134330efac6c49ff5fa221c840bbe32f6a36bb900d55e0daad9c3353\n",
            "Enter private key: 59e018145add3cbe1ed447cb49269cae36c46243d59e4cdc7e840d6a90d9acac\n",
            "Enter initial value for message2df4589b7b34403323d0f0a4227f2f3b\n",
            "Enter initial value for common key: 8f307c41fa5509ad32ccad83671136ee\n"
          ],
          "name": "stdout"
        }
      ]
    },
    {
      "cell_type": "code",
      "metadata": {
        "colab": {
          "base_uri": "https://localhost:8080/"
        },
        "id": "wLHHE-q5ZVla",
        "outputId": "e211c8aa-3424-4a73-d59c-eb0061f2a948"
      },
      "source": [
        "Common_key=decrypt(p_key, ivk_t, C2_t)\n",
        "Decrypted_msg=decrypt(Common_key,ivm_t,C1_t)\n",
        "print(\"Decrypted message: \",Decrypted_msg)\n"
      ],
      "execution_count": null,
      "outputs": [
        {
          "output_type": "stream",
          "text": [
            "Decrypted message:  b'hai'\n"
          ],
          "name": "stdout"
        }
      ]
    },
    {
      "cell_type": "markdown",
      "metadata": {
        "id": "-aojba7qHYE7"
      },
      "source": [
        "**Storage Details (For same message same Cipher text)**"
      ]
    },
    {
      "cell_type": "code",
      "metadata": {
        "id": "MEz7-sWOZebU",
        "colab": {
          "base_uri": "https://localhost:8080/"
        },
        "outputId": "a4d0d384-16ac-4bb3-cd95-c39f19b97a99"
      },
      "source": [
        "print(\"Encrypted messages\")\n",
        "for i in C1_list:\n",
        "  print(i)"
      ],
      "execution_count": null,
      "outputs": [
        {
          "output_type": "stream",
          "text": [
            "Encrypted messages\n",
            "b'\\xa6\\xef\\xd8'\n",
            "b'\\xa6\\xef\\xd8'\n",
            "b'\\xa6\\xef\\xd8'\n",
            "b'\\xa6\\xeb\\xdd\\xc9x2H\\xca$'\n"
          ],
          "name": "stdout"
        }
      ]
    },
    {
      "cell_type": "code",
      "metadata": {
        "id": "unkQASpNbY3H",
        "colab": {
          "base_uri": "https://localhost:8080/"
        },
        "outputId": "21426895-5615-4112-f7d0-9b90b91c4d57"
      },
      "source": [
        "print(\"Encrypted keys\")\n",
        "for i in C2_list:\n",
        "  print(i)"
      ],
      "execution_count": null,
      "outputs": [
        {
          "output_type": "stream",
          "text": [
            "Encrypted keys\n",
            "b'&\\xae\\xdd\\xdf\\xce\\x92\\x84\\x84U\\xbb\\x1aQU\\xc5\\xf8Y(]3\\xfc\\xde\\xc1\\xf5\\xd7*\\xad\\xcb\\n-\\x18\\xcaC'\n",
            "b'\\xe7\\xc8\\x87.\\x96\\xbb\\xa8\\x02m\\xc4\\xfb\\xce\\xe2)8\\xa0\\xc9\\xa6\\x96\\xfb\\xcb\\xf7\\x9a^g\\x11,\\xcfI\\x83\\x98`'\n",
            "b'\\x9fE)J\\xf8\\xbd\\xa1`q\\x8b\\x8d\\xae\\xe3\\xd8Q2\\x1e$\\x18\\xebB\\xb5\\xff\\x94\\x82\\x96I>\\x04O\\x9c!'\n",
            "b'\\xb6m\\x89\\xf5\\xd5\\xe0\\xeb\\t\\x17<\\x9a6kU0\\xa8Q/\\xbb\\xe2\\xa4\\x10o\\xa8\\x80C+\\xfe\\xf0b\\x12\\xeb'\n"
          ],
          "name": "stdout"
        }
      ]
    },
    {
      "cell_type": "code",
      "metadata": {
        "id": "y7Phv3s-bYxl"
      },
      "source": [
        ""
      ],
      "execution_count": null,
      "outputs": []
    },
    {
      "cell_type": "code",
      "metadata": {
        "id": "shg91GBSbYub"
      },
      "source": [
        ""
      ],
      "execution_count": null,
      "outputs": []
    },
    {
      "cell_type": "code",
      "metadata": {
        "id": "KId8jmIGbYrp"
      },
      "source": [
        ""
      ],
      "execution_count": null,
      "outputs": []
    },
    {
      "cell_type": "code",
      "metadata": {
        "id": "kxXCsiSrJ9qf"
      },
      "source": [
        ""
      ],
      "execution_count": null,
      "outputs": []
    },
    {
      "cell_type": "code",
      "metadata": {
        "id": "l36s11QDLDzm"
      },
      "source": [
        ""
      ],
      "execution_count": null,
      "outputs": []
    },
    {
      "cell_type": "code",
      "metadata": {
        "id": "M52Ae7OgLUev"
      },
      "source": [
        ""
      ],
      "execution_count": null,
      "outputs": []
    },
    {
      "cell_type": "code",
      "metadata": {
        "colab": {
          "base_uri": "https://localhost:8080/"
        },
        "id": "XjduGPveLa1P",
        "outputId": "facdc6c7-ad24-4bec-82c7-04e444ab0d87"
      },
      "source": [
        ""
      ],
      "execution_count": null,
      "outputs": [
        {
          "output_type": "execute_result",
          "data": {
            "text/plain": [
              "b\"\\x87\\x98&V\\x95\\xb94'U\\x8c*\\xeeE\\xf5\\x97\\xaa\\n=d5\\xa1E\\x9bn\\xf4<\\x8cDO\\x1e0/\""
            ]
          },
          "metadata": {
            "tags": []
          },
          "execution_count": 53
        }
      ]
    }
  ]
}